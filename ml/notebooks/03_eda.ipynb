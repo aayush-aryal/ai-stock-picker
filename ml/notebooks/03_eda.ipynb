{
 "cells": [
  {
   "cell_type": "code",
   "execution_count": 3,
   "id": "e7b5b6f9",
   "metadata": {},
   "outputs": [],
   "source": [
    "import matplotlib.pyplot as plt\n",
    "import pandas as pd"
   ]
  },
  {
   "cell_type": "code",
   "execution_count": 4,
   "id": "85cdcee9",
   "metadata": {},
   "outputs": [],
   "source": [
    "PROCESSED_DATA_DIR=\"../data/processed\""
   ]
  },
  {
   "cell_type": "code",
   "execution_count": 5,
   "id": "8ce32e36",
   "metadata": {},
   "outputs": [],
   "source": [
    "df=pd.read_parquet(f\"{PROCESSED_DATA_DIR}/swing_trading_model_data.parquet\")"
   ]
  },
  {
   "cell_type": "code",
   "execution_count": 5,
   "id": "015299c8",
   "metadata": {},
   "outputs": [
    {
     "name": "stdout",
     "output_type": "stream",
     "text": [
      "5-Day Returns Summary:\n",
      "count    1.301650e+06\n",
      "mean     3.237714e-03\n",
      "std      4.531755e-02\n",
      "min     -6.811832e-01\n",
      "25%     -1.794298e-02\n",
      "50%      3.624139e-03\n",
      "75%      2.462934e-02\n",
      "max      1.182754e+00\n",
      "Name: target_5d, dtype: float64\n"
     ]
    },
    {
     "data": {
      "image/png": "[encoded data removed]",
      "text/plain": [
       "<Figure size 1000x400 with 1 Axes>"
      ]
     },
     "metadata": {},
     "output_type": "display_data"
    },
    {
     "name": "stdout",
     "output_type": "stream",
     "text": [
      "Stocks that go up in 5 days: 54.7%\n"
     ]
    }
   ],
   "source": [
    "# Quick target stats\n",
    "print(\"5-Day Returns Summary:\")\n",
    "print(df['target_5d'].describe())\n",
    "\n",
    "# Distribution plot\n",
    "plt.figure(figsize=(10, 4))\n",
    "plt.hist(df['target_5d'].clip(-0.2, 0.2), bins=100)  # Clip extremes\n",
    "plt.title(\"5-Day Returns Distribution\")\n",
    "plt.show()\n",
    "\n",
    "# Key question: What % of stocks go up vs down?\n",
    "up_percentage = (df['target_5d'] > 0).mean()\n",
    "print(f\"Stocks that go up in 5 days: {up_percentage:.1%}\")"
   ]
  },
  {
   "cell_type": "code",
   "execution_count": 6,
   "id": "e5ef012a",
   "metadata": {},
   "outputs": [
    {
     "name": "stdout",
     "output_type": "stream",
     "text": [
      "Feature-Target Correlations:\n",
      "target_regression       1.000000\n",
      "volatility_20d          0.045582\n",
      "volatility_10d          0.038518\n",
      "macd_histogram          0.002862\n",
      "sp500_return_5d        -0.001436\n",
      "ema_21d                -0.002507\n",
      "ema_8d                 -0.002665\n",
      "ema_8_21_cross         -0.014237\n",
      "stochastic_k           -0.016752\n",
      "stochastic_d           -0.017607\n",
      "rsi_14d                -0.022942\n",
      "relative_strength_5d   -0.027417\n",
      "return_5d              -0.027465\n",
      "Name: target_regression, dtype: float64\n"
     ]
    }
   ],
   "source": [
    "# Just the correlation matrix\n",
    "feature_columns=['return_5d', 'rsi_14d', 'volatility_10d', 'volatility_20d', \n",
    "                   'sp500_return_5d', 'relative_strength_5d',\n",
    "                   \"stochastic_k\",\"stochastic_d\",'ema_8_21_cross','ema_21d',\n",
    "                   'ema_8d','macd_histogram']\n",
    "\n",
    "correlations = df[['target_regression'] + feature_columns].corr()\n",
    "print(\"Feature-Target Correlations:\")\n",
    "print(correlations['target_regression'].sort_values(ascending=False))"
   ]
  },
  {
   "cell_type": "code",
   "execution_count": 8,
   "id": "7019c345",
   "metadata": {},
   "outputs": [
    {
     "name": "stdout",
     "output_type": "stream",
     "text": [
      "High volatility stocks avg return: 0.006782621065797669\n",
      "Low volatility stocks avg return: 0.0015862998024765147\n"
     ]
    }
   ],
   "source": [
    "# Test the volatility signal manually\n",
    "high_vol = df['volatility_20d'] > df['volatility_20d'].quantile(0.8)\n",
    "low_vol = df['volatility_20d'] < df['volatility_20d'].quantile(0.2)\n",
    "\n",
    "print(\"High volatility stocks avg return:\", df[high_vol]['target_5d'].mean())\n",
    "print(\"Low volatility stocks avg return:\", df[low_vol]['target_5d'].mean())"
   ]
  },
  {
   "cell_type": "code",
   "execution_count": null,
   "id": "fb3556ef",
   "metadata": {},
   "outputs": [],
   "source": []
  }
 ],
 "metadata": {
  "kernelspec": {
   "display_name": "venv",
   "language": "python",
   "name": "python3"
  },
  "language_info": {
   "codemirror_mode": {
    "name": "ipython",
    "version": 3
   },
   "file_extension": ".py",
   "mimetype": "text/x-python",
   "name": "python",
   "nbconvert_exporter": "python",
   "pygments_lexer": "ipython3",
   "version": "3.13.5"
  }
 },
 "nbformat": 4,
 "nbformat_minor": 5
}
