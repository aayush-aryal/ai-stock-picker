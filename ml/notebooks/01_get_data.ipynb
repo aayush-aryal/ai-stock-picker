{
 "cells": [
  {
   "cell_type": "code",
   "execution_count": 3,
   "id": "20d064c9",
   "metadata": {},
   "outputs": [],
   "source": [
    "import yfinance as yf \n",
    "import pandas as pd\n",
    "import requests\n",
    "import io\n",
    "import numpy as np\n",
    "from datetime import datetime, timezone\n"
   ]
  },
  {
   "cell_type": "code",
   "execution_count": 107,
   "id": "c36047fd",
   "metadata": {},
   "outputs": [],
   "source": [
    "DATA_OUTPUT_DIR=\"../data/raw\""
   ]
  },
  {
   "cell_type": "code",
   "execution_count": 2,
   "id": "d5056675",
   "metadata": {},
   "outputs": [],
   "source": [
    "PROCESSED_DATA_OUTPUT_DIR=\"../data/processed\""
   ]
  },
  {
   "cell_type": "code",
   "execution_count": 101,
   "id": "093898ba",
   "metadata": {},
   "outputs": [],
   "source": [
    "#just reading the html file using pd.read_html is forbidden so\n",
    "# Ref: https://stackoverflow.com/a/75845569/\n",
    "def normalize_ticker(ticker):\n",
    "    return ticker.replace(\".\",\"-\")\n",
    "\n",
    "def list_slickcharts_sp500():\n",
    "    url = 'https://www.slickcharts.com/sp500'\n",
    "    user_agent = 'Mozilla/5.0 (X11; Linux x86_64; rv:109.0) Gecko/20100101 Firefox/111.0'  # Default user-agent fails.\n",
    "    response = requests.get(url, headers={'User-Agent': user_agent})\n",
    "    ticker= pd.read_html(io.StringIO(response.text), match='Symbol', index_col='Symbol')[0]\n",
    "    ticker=ticker.reset_index()\n",
    "    symbols=ticker[\"Symbol\"].tolist()\n",
    "    symbols=[normalize_ticker(tick) for tick in symbols]\n",
    "    return symbols"
   ]
  },
  {
   "cell_type": "code",
   "execution_count": 95,
   "id": "9e54dc53",
   "metadata": {},
   "outputs": [],
   "source": [
    "def fix_indexes_yfinance(df):\n",
    "    return df.stack(level=0).reset_index()\n"
   ]
  },
  {
   "cell_type": "code",
   "execution_count": 116,
   "id": "e2daa278",
   "metadata": {},
   "outputs": [],
   "source": [
    "def get_stock_market_data(start_date,end_date):\n",
    "    tickers= list_slickcharts_sp500()    \n",
    "    data = yf.download(tickers, start=start_date, end=end_date, \n",
    "                      group_by='ticker', auto_adjust=True)\n",
    "    \n",
    "    data=data.stack(level=0).reset_index()\n",
    "    return data"
   ]
  },
  {
   "cell_type": "code",
   "execution_count": 4,
   "id": "ef48a12e",
   "metadata": {},
   "outputs": [
    {
     "name": "stderr",
     "output_type": "stream",
     "text": [
      "[*********************100%***********************]  1 of 1 completed\n"
     ]
    }
   ],
   "source": [
    "d=yf.download(\"AAPL\", start=\"2025-09-25\", end=\"2025-10-08\", group_by='ticker', auto_adjust=True)"
   ]
  },
  {
   "cell_type": "code",
   "execution_count": null,
   "id": "e761197e",
   "metadata": {},
   "outputs": [
    {
     "data": {
      "text/html": [
       "<div>\n",
       "<style scoped>\n",
       "    .dataframe tbody tr th:only-of-type {\n",
       "        vertical-align: middle;\n",
       "    }\n",
       "\n",
       "    .dataframe tbody tr th {\n",
       "        vertical-align: top;\n",
       "    }\n",
       "\n",
       "    .dataframe thead tr th {\n",
       "        text-align: left;\n",
       "    }\n",
       "\n",
       "    .dataframe thead tr:last-of-type th {\n",
       "        text-align: right;\n",
       "    }\n",
       "</style>\n",
       "<table border=\"1\" class=\"dataframe\">\n",
       "  <thead>\n",
       "    <tr>\n",
       "      <th>Ticker</th>\n",
       "      <th colspan=\"5\" halign=\"left\">AAPL</th>\n",
       "    </tr>\n",
       "    <tr>\n",
       "      <th>Price</th>\n",
       "      <th>Open</th>\n",
       "      <th>High</th>\n",
       "      <th>Low</th>\n",
       "      <th>Close</th>\n",
       "      <th>Volume</th>\n",
       "    </tr>\n",
       "    <tr>\n",
       "      <th>Date</th>\n",
       "      <th></th>\n",
       "      <th></th>\n",
       "      <th></th>\n",
       "      <th></th>\n",
       "      <th></th>\n",
       "    </tr>\n",
       "  </thead>\n",
       "  <tbody>\n",
       "    <tr>\n",
       "      <th>2025-09-25</th>\n",
       "      <td>253.210007</td>\n",
       "      <td>257.170013</td>\n",
       "      <td>251.710007</td>\n",
       "      <td>256.869995</td>\n",
       "      <td>55202100</td>\n",
       "    </tr>\n",
       "    <tr>\n",
       "      <th>2025-09-26</th>\n",
       "      <td>254.100006</td>\n",
       "      <td>257.600006</td>\n",
       "      <td>253.779999</td>\n",
       "      <td>255.460007</td>\n",
       "      <td>46076300</td>\n",
       "    </tr>\n",
       "    <tr>\n",
       "      <th>2025-09-29</th>\n",
       "      <td>254.559998</td>\n",
       "      <td>255.000000</td>\n",
       "      <td>253.009995</td>\n",
       "      <td>254.429993</td>\n",
       "      <td>40127700</td>\n",
       "    </tr>\n",
       "    <tr>\n",
       "      <th>2025-09-30</th>\n",
       "      <td>254.860001</td>\n",
       "      <td>255.919998</td>\n",
       "      <td>253.110001</td>\n",
       "      <td>254.630005</td>\n",
       "      <td>37704300</td>\n",
       "    </tr>\n",
       "    <tr>\n",
       "      <th>2025-10-01</th>\n",
       "      <td>255.039993</td>\n",
       "      <td>258.790009</td>\n",
       "      <td>254.929993</td>\n",
       "      <td>255.449997</td>\n",
       "      <td>48713900</td>\n",
       "    </tr>\n",
       "    <tr>\n",
       "      <th>2025-10-02</th>\n",
       "      <td>256.579987</td>\n",
       "      <td>258.179993</td>\n",
       "      <td>254.149994</td>\n",
       "      <td>257.130005</td>\n",
       "      <td>42630200</td>\n",
       "    </tr>\n",
       "    <tr>\n",
       "      <th>2025-10-03</th>\n",
       "      <td>254.669998</td>\n",
       "      <td>259.239990</td>\n",
       "      <td>253.949997</td>\n",
       "      <td>258.019989</td>\n",
       "      <td>49155600</td>\n",
       "    </tr>\n",
       "    <tr>\n",
       "      <th>2025-10-06</th>\n",
       "      <td>257.989990</td>\n",
       "      <td>259.070007</td>\n",
       "      <td>255.050003</td>\n",
       "      <td>256.690002</td>\n",
       "      <td>44664100</td>\n",
       "    </tr>\n",
       "    <tr>\n",
       "      <th>2025-10-07</th>\n",
       "      <td>256.809998</td>\n",
       "      <td>257.399994</td>\n",
       "      <td>255.429993</td>\n",
       "      <td>256.480011</td>\n",
       "      <td>31955800</td>\n",
       "    </tr>\n",
       "  </tbody>\n",
       "</table>\n",
       "</div>"
      ],
      "text/plain": [
       "Ticker            AAPL                                              \n",
       "Price             Open        High         Low       Close    Volume\n",
       "Date                                                                \n",
       "2025-09-25  253.210007  257.170013  251.710007  256.869995  55202100\n",
       "2025-09-26  254.100006  257.600006  253.779999  255.460007  46076300\n",
       "2025-09-29  254.559998  255.000000  253.009995  254.429993  40127700\n",
       "2025-09-30  254.860001  255.919998  253.110001  254.630005  37704300\n",
       "2025-10-01  255.039993  258.790009  254.929993  255.449997  48713900\n",
       "2025-10-02  256.579987  258.179993  254.149994  257.130005  42630200\n",
       "2025-10-03  254.669998  259.239990  253.949997  258.019989  49155600\n",
       "2025-10-06  257.989990  259.070007  255.050003  256.690002  44664100\n",
       "2025-10-07  256.809998  257.399994  255.429993  256.480011  31955800"
      ]
     },
     "execution_count": 6,
     "metadata": {},
     "output_type": "execute_result"
    }
   ],
   "source": []
  },
  {
   "cell_type": "code",
   "execution_count": null,
   "id": "e3326a2f",
   "metadata": {},
   "outputs": [
    {
     "name": "stderr",
     "output_type": "stream",
     "text": [
      "[*********************100%***********************]  503 of 503 completed\n",
      "/var/folders/94/xf2q8_bs543d00kh0st2v5t80000gn/T/ipykernel_49975/734245147.py:6: FutureWarning: The previous implementation of stack is deprecated and will be removed in a future version of pandas. See the What's New notes for pandas 2.1.0 for details. Specify future_stack=True to adopt the new implementation and silence this warning.\n",
      "  data=data.stack(level=0).reset_index()\n"
     ]
    }
   ],
   "source": [
    "df=get_stock_market_data(\"2015-01-01\",datetime.now(timezone.utc))\n",
    "df.to_parquet(f\"{DATA_OUTPUT_DIR}/sp500_stocks_2015_2025.parquet\", index=False)\n",
    "print(\"Data saved successfully\")"
   ]
  },
  {
   "cell_type": "code",
   "execution_count": 113,
   "id": "c4ac53dd",
   "metadata": {},
   "outputs": [],
   "source": [
    "def get_df_details(df):\n",
    "    print(\"Printing DF details \\n\")\n",
    "    print(f\"Shape {df.shape}\")\n",
    "    print(f\"Missing {df.isna().sum()}\")\n",
    "    print(f\"Columns {df.columns}\")\n",
    "    print(f\"Duplicated {df.duplicated().sum()}\")\n"
   ]
  },
  {
   "cell_type": "code",
   "execution_count": 114,
   "id": "1b255807",
   "metadata": {},
   "outputs": [
    {
     "name": "stdout",
     "output_type": "stream",
     "text": [
      "Printing DF details \n",
      "\n",
      "Shape (1316543, 7)\n",
      "Missing Price\n",
      "Date      0\n",
      "Ticker    0\n",
      "Open      0\n",
      "High      0\n",
      "Low       0\n",
      "Close     0\n",
      "Volume    0\n",
      "dtype: int64\n",
      "Columns Index(['Date', 'Ticker', 'Open', 'High', 'Low', 'Close', 'Volume'], dtype='object', name='Price')\n",
      "Duplicated 0\n"
     ]
    }
   ],
   "source": [
    "get_df_details(df)"
   ]
  },
  {
   "cell_type": "code",
   "execution_count": 128,
   "id": "3bbbedf1",
   "metadata": {},
   "outputs": [],
   "source": [
    "# Fetch SP500 index data for the same time period\n",
    "def get_sp500_index_data(start_date,end_date):\n",
    "    print(\"Fetching SP500 index data...\")\n",
    "    sp500_data = yf.download(\"^GSPC\", start=start_date, end=end_date, auto_adjust=True, group_by='Ticker')\n",
    "    sp500_data=sp500_data.stack(level=0).reset_index()\n",
    "    sp500_data=sp500_data.drop(columns=[\"Ticker\"])\n",
    "\n",
    "    \n",
    "    # Rename columns to avoid conflicts\n",
    "    sp500_data.columns = ['Date', 'sp500_Open', 'sp500_High', 'sp500_Low', \n",
    "                         'sp500_Close', 'sp500_Volume']\n",
    "   \n",
    "    return sp500_data"
   ]
  },
  {
   "cell_type": "code",
   "execution_count": 129,
   "id": "442fa29c",
   "metadata": {},
   "outputs": [
    {
     "name": "stdout",
     "output_type": "stream",
     "text": [
      "Fetching SP500 index data...\n"
     ]
    },
    {
     "name": "stderr",
     "output_type": "stream",
     "text": [
      "[*********************100%***********************]  1 of 1 completed\n",
      "/var/folders/94/xf2q8_bs543d00kh0st2v5t80000gn/T/ipykernel_49975/2066886848.py:5: FutureWarning: The previous implementation of stack is deprecated and will be removed in a future version of pandas. See the What's New notes for pandas 2.1.0 for details. Specify future_stack=True to adopt the new implementation and silence this warning.\n",
      "  sp500_data=sp500_data.stack(level=0).reset_index()\n"
     ]
    }
   ],
   "source": [
    "sp500_data=get_sp500_index_data(\"2015-01-01\", datetime.now(timezone.utc))"
   ]
  },
  {
   "cell_type": "code",
   "execution_count": null,
   "id": "6434f2c3",
   "metadata": {},
   "outputs": [],
   "source": []
  },
  {
   "cell_type": "code",
   "execution_count": 134,
   "id": "1d04bb9d",
   "metadata": {},
   "outputs": [
    {
     "name": "stdout",
     "output_type": "stream",
     "text": [
      "Printing DF details \n",
      "\n",
      "Shape (2699, 6)\n",
      "Missing Date            0\n",
      "sp500_Open      0\n",
      "sp500_High      0\n",
      "sp500_Low       0\n",
      "sp500_Close     0\n",
      "sp500_Volume    0\n",
      "dtype: int64\n",
      "Columns Index(['Date', 'sp500_Open', 'sp500_High', 'sp500_Low', 'sp500_Close',\n",
      "       'sp500_Volume'],\n",
      "      dtype='object')\n",
      "Duplicated 0\n"
     ]
    }
   ],
   "source": [
    "get_df_details(sp500_data)"
   ]
  },
  {
   "cell_type": "code",
   "execution_count": 136,
   "id": "c33fce77",
   "metadata": {},
   "outputs": [],
   "source": [
    "sp500_data.to_parquet(f\"{DATA_OUTPUT_DIR}/sp500_index_2015-2025.parquet\", index=False)"
   ]
  },
  {
   "cell_type": "code",
   "execution_count": 137,
   "id": "d1f6ae1b",
   "metadata": {},
   "outputs": [
    {
     "name": "stdout",
     "output_type": "stream",
     "text": [
      "2699\n",
      "2699\n"
     ]
    }
   ],
   "source": [
    "print(df[\"Date\"].nunique())\n",
    "print(sp500_data[\"Date\"].nunique())"
   ]
  },
  {
   "cell_type": "code",
   "execution_count": 138,
   "id": "60591593",
   "metadata": {},
   "outputs": [],
   "source": [
    "merged_df=pd.merge(df,sp500_data,on=\"Date\", how=\"inner\")"
   ]
  },
  {
   "cell_type": "code",
   "execution_count": 139,
   "id": "5d86ad48",
   "metadata": {},
   "outputs": [
    {
     "name": "stdout",
     "output_type": "stream",
     "text": [
      "Printing DF details \n",
      "\n",
      "Shape (1316543, 12)\n",
      "Missing Date            0\n",
      "Ticker          0\n",
      "Open            0\n",
      "High            0\n",
      "Low             0\n",
      "Close           0\n",
      "Volume          0\n",
      "sp500_Open      0\n",
      "sp500_High      0\n",
      "sp500_Low       0\n",
      "sp500_Close     0\n",
      "sp500_Volume    0\n",
      "dtype: int64\n",
      "Columns Index(['Date', 'Ticker', 'Open', 'High', 'Low', 'Close', 'Volume',\n",
      "       'sp500_Open', 'sp500_High', 'sp500_Low', 'sp500_Close', 'sp500_Volume'],\n",
      "      dtype='object')\n",
      "Duplicated 0\n"
     ]
    }
   ],
   "source": [
    "get_df_details(merged_df)"
   ]
  },
  {
   "cell_type": "code",
   "execution_count": null,
   "id": "a6c00b83",
   "metadata": {},
   "outputs": [],
   "source": [
    "merged_df.to_parquet(f\"{DATA_OUTPUT_DIR}/stock_and_market_data_2015_2025.parquet\", index=False)\n"
   ]
  },
  {
   "cell_type": "code",
   "execution_count": 141,
   "id": "d47ed602",
   "metadata": {},
   "outputs": [
    {
     "data": {
      "text/html": [
       "<div>\n",
       "<style scoped>\n",
       "    .dataframe tbody tr th:only-of-type {\n",
       "        vertical-align: middle;\n",
       "    }\n",
       "\n",
       "    .dataframe tbody tr th {\n",
       "        vertical-align: top;\n",
       "    }\n",
       "\n",
       "    .dataframe thead th {\n",
       "        text-align: right;\n",
       "    }\n",
       "</style>\n",
       "<table border=\"1\" class=\"dataframe\">\n",
       "  <thead>\n",
       "    <tr style=\"text-align: right;\">\n",
       "      <th></th>\n",
       "      <th>Date</th>\n",
       "      <th>Ticker</th>\n",
       "      <th>Open</th>\n",
       "      <th>High</th>\n",
       "      <th>Low</th>\n",
       "      <th>Close</th>\n",
       "      <th>Volume</th>\n",
       "      <th>sp500_Open</th>\n",
       "      <th>sp500_High</th>\n",
       "      <th>sp500_Low</th>\n",
       "      <th>sp500_Close</th>\n",
       "      <th>sp500_Volume</th>\n",
       "    </tr>\n",
       "  </thead>\n",
       "  <tbody>\n",
       "    <tr>\n",
       "      <th>0</th>\n",
       "      <td>2015-01-02</td>\n",
       "      <td>A</td>\n",
       "      <td>37.764061</td>\n",
       "      <td>37.883278</td>\n",
       "      <td>37.021250</td>\n",
       "      <td>37.195492</td>\n",
       "      <td>1529200.0</td>\n",
       "      <td>2058.899902</td>\n",
       "      <td>2072.360107</td>\n",
       "      <td>2046.040039</td>\n",
       "      <td>2058.199951</td>\n",
       "      <td>2708700000</td>\n",
       "    </tr>\n",
       "    <tr>\n",
       "      <th>1</th>\n",
       "      <td>2015-01-02</td>\n",
       "      <td>AAPL</td>\n",
       "      <td>24.718174</td>\n",
       "      <td>24.729270</td>\n",
       "      <td>23.821672</td>\n",
       "      <td>24.261047</td>\n",
       "      <td>212818400.0</td>\n",
       "      <td>2058.899902</td>\n",
       "      <td>2072.360107</td>\n",
       "      <td>2046.040039</td>\n",
       "      <td>2058.199951</td>\n",
       "      <td>2708700000</td>\n",
       "    </tr>\n",
       "    <tr>\n",
       "      <th>2</th>\n",
       "      <td>2015-01-02</td>\n",
       "      <td>ABBV</td>\n",
       "      <td>42.105342</td>\n",
       "      <td>42.723023</td>\n",
       "      <td>42.105342</td>\n",
       "      <td>42.394878</td>\n",
       "      <td>5086100.0</td>\n",
       "      <td>2058.899902</td>\n",
       "      <td>2072.360107</td>\n",
       "      <td>2046.040039</td>\n",
       "      <td>2058.199951</td>\n",
       "      <td>2708700000</td>\n",
       "    </tr>\n",
       "    <tr>\n",
       "      <th>3</th>\n",
       "      <td>2015-01-02</td>\n",
       "      <td>ABT</td>\n",
       "      <td>36.865760</td>\n",
       "      <td>37.028704</td>\n",
       "      <td>36.368785</td>\n",
       "      <td>36.580612</td>\n",
       "      <td>3216600.0</td>\n",
       "      <td>2058.899902</td>\n",
       "      <td>2072.360107</td>\n",
       "      <td>2046.040039</td>\n",
       "      <td>2058.199951</td>\n",
       "      <td>2708700000</td>\n",
       "    </tr>\n",
       "    <tr>\n",
       "      <th>4</th>\n",
       "      <td>2015-01-02</td>\n",
       "      <td>ACGL</td>\n",
       "      <td>18.764398</td>\n",
       "      <td>18.884845</td>\n",
       "      <td>18.472788</td>\n",
       "      <td>18.539352</td>\n",
       "      <td>1101600.0</td>\n",
       "      <td>2058.899902</td>\n",
       "      <td>2072.360107</td>\n",
       "      <td>2046.040039</td>\n",
       "      <td>2058.199951</td>\n",
       "      <td>2708700000</td>\n",
       "    </tr>\n",
       "  </tbody>\n",
       "</table>\n",
       "</div>"
      ],
      "text/plain": [
       "        Date Ticker       Open       High        Low      Close       Volume  \\\n",
       "0 2015-01-02      A  37.764061  37.883278  37.021250  37.195492    1529200.0   \n",
       "1 2015-01-02   AAPL  24.718174  24.729270  23.821672  24.261047  212818400.0   \n",
       "2 2015-01-02   ABBV  42.105342  42.723023  42.105342  42.394878    5086100.0   \n",
       "3 2015-01-02    ABT  36.865760  37.028704  36.368785  36.580612    3216600.0   \n",
       "4 2015-01-02   ACGL  18.764398  18.884845  18.472788  18.539352    1101600.0   \n",
       "\n",
       "    sp500_Open   sp500_High    sp500_Low  sp500_Close  sp500_Volume  \n",
       "0  2058.899902  2072.360107  2046.040039  2058.199951    2708700000  \n",
       "1  2058.899902  2072.360107  2046.040039  2058.199951    2708700000  \n",
       "2  2058.899902  2072.360107  2046.040039  2058.199951    2708700000  \n",
       "3  2058.899902  2072.360107  2046.040039  2058.199951    2708700000  \n",
       "4  2058.899902  2072.360107  2046.040039  2058.199951    2708700000  "
      ]
     },
     "execution_count": 141,
     "metadata": {},
     "output_type": "execute_result"
    }
   ],
   "source": [
    "merged_df.head()"
   ]
  },
  {
   "cell_type": "code",
   "execution_count": 5,
   "id": "43fd6dfe",
   "metadata": {},
   "outputs": [],
   "source": [
    "processed_df=pd.read_parquet(f\"{PROCESSED_DATA_OUTPUT_DIR}/swing_trading_model_data.parquet\")"
   ]
  },
  {
   "cell_type": "code",
   "execution_count": 8,
   "id": "96b85160",
   "metadata": {},
   "outputs": [
    {
     "data": {
      "text/plain": [
       "Date                    0\n",
       "Ticker                  0\n",
       "Open                    0\n",
       "High                    0\n",
       "Low                     0\n",
       "Close                   0\n",
       "Volume                  0\n",
       "sp500_Open              0\n",
       "sp500_High              0\n",
       "sp500_Low               0\n",
       "sp500_Close             0\n",
       "sp500_Volume            0\n",
       "return_5d               0\n",
       "rsi_14d                 0\n",
       "daily_return            0\n",
       "volatility_10d          0\n",
       "volatility_20d          0\n",
       "sp500_return_5d         0\n",
       "relative_strength_5d    0\n",
       "target_5d               0\n",
       "dtype: int64"
      ]
     },
     "execution_count": 8,
     "metadata": {},
     "output_type": "execute_result"
    }
   ],
   "source": [
    "processed_df.isna().sum()"
   ]
  },
  {
   "cell_type": "code",
   "execution_count": null,
   "id": "045194e0",
   "metadata": {},
   "outputs": [],
   "source": []
  }
 ],
 "metadata": {
  "kernelspec": {
   "display_name": "venv",
   "language": "python",
   "name": "python3"
  },
  "language_info": {
   "codemirror_mode": {
    "name": "ipython",
    "version": 3
   },
   "file_extension": ".py",
   "mimetype": "text/x-python",
   "name": "python",
   "nbconvert_exporter": "python",
   "pygments_lexer": "ipython3",
   "version": "3.13.5"
  }
 },
 "nbformat": 4,
 "nbformat_minor": 5
}
