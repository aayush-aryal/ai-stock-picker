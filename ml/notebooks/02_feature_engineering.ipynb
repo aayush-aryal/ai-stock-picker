{
 "cells": [
  {
   "cell_type": "code",
   "execution_count": 1,
   "id": "0e4f21a1",
   "metadata": {},
   "outputs": [],
   "source": [
    "import pandas as pd\n",
    "import numpy as np\n",
    "from datetime import datetime"
   ]
  },
  {
   "cell_type": "code",
   "execution_count": 29,
   "id": "3f98bbaf",
   "metadata": {},
   "outputs": [],
   "source": [
    "RAW_DATA_OUTPUT_DIR=\"../data/raw\"\n",
    "PROCESSED_DATA_OUTPUT_DIR=\"../data/processed\""
   ]
  },
  {
   "cell_type": "code",
   "execution_count": 4,
   "id": "a51487aa",
   "metadata": {},
   "outputs": [],
   "source": [
    "df=pd.read_parquet(f\"{RAW_DATA_OUTPUT_DIR}/stock_and_market_data_2015_2025.parquet\"\n",
    "                   )"
   ]
  },
  {
   "cell_type": "code",
   "execution_count": 5,
   "id": "894e261e",
   "metadata": {},
   "outputs": [],
   "source": [
    "def get_df_details(df):\n",
    "    print(\"Printing DF details \\n\")\n",
    "    print(f\"Shape {df.shape}\")\n",
    "    print(f\"Missing {df.isna().sum()}\")\n",
    "    print(f\"Columns {df.columns}\")\n",
    "    print(f\"Duplicated {df.duplicated().sum()}\")\n"
   ]
  },
  {
   "cell_type": "code",
   "execution_count": 6,
   "id": "463c563a",
   "metadata": {},
   "outputs": [
    {
     "name": "stdout",
     "output_type": "stream",
     "text": [
      "Printing DF details \n",
      "\n",
      "Shape (1316543, 12)\n",
      "Missing Date            0\n",
      "Ticker          0\n",
      "Open            0\n",
      "High            0\n",
      "Low             0\n",
      "Close           0\n",
      "Volume          0\n",
      "sp500_Open      0\n",
      "sp500_High      0\n",
      "sp500_Low       0\n",
      "sp500_Close     0\n",
      "sp500_Volume    0\n",
      "dtype: int64\n",
      "Columns Index(['Date', 'Ticker', 'Open', 'High', 'Low', 'Close', 'Volume',\n",
      "       'sp500_Open', 'sp500_High', 'sp500_Low', 'sp500_Close', 'sp500_Volume'],\n",
      "      dtype='object')\n",
      "Duplicated 0\n"
     ]
    }
   ],
   "source": [
    "get_df_details(df)"
   ]
  },
  {
   "cell_type": "code",
   "execution_count": null,
   "id": "d2816695",
   "metadata": {},
   "outputs": [],
   "source": [
    "def calculate_rsi(prices,window=14):\n",
    "    \"\"\"Calculate RSI - momentum oscillator measuring speed of price movements\"\"\"\n",
    "    delta=prices.diff()\n",
    "    gain=(delta.where(delta>0,0)).rolling(window=window).mean()\n",
    "    loss=(-delta.where(delta<0,0)).rolling(window=window).mean()\n",
    "\n",
    "    rs=gain/loss\n",
    "    rsi=100-(100/(1+rs))\n",
    "    return rsi \n",
    "    \n",
    "\n",
    "def feature_engineer(df):\n",
    "    df_copy=df.copy()\n",
    "    #return for 5d would be \n",
    "    df_copy['return_5d'] = df_copy.groupby(\"Ticker\")[\"Close\"].transform(\n",
    "        lambda x: (x.shift(1)/x.shift(6)-1)\n",
    "    )\n",
    "    #rsi \n",
    "    df_copy['rsi_14d']=df_copy.groupby(\"Ticker\")[\"Close\"].transform(\n",
    "        lambda x:calculate_rsi(x).shift(1)\n",
    "    )\n",
    "\n",
    "    #volatility \n",
    "    #how much a stock goes up or down per time or its movement? check daily return see how it much it has fluctuated\n",
    "    df_copy['daily_return'] = df_copy.groupby('Ticker')['Close'].pct_change().shift(1)\n",
    "    df_copy[\"volatility_10d\"]=df_copy.groupby(\"Ticker\")[\"daily_return\"].transform(\n",
    "        lambda x:x.rolling(window=10).std()\n",
    "    )\n",
    "    df_copy[\"volatility_20d\"]=df_copy.groupby(\"Ticker\")[\"daily_return\"].transform(\n",
    "        lambda x:x.rolling(window=20).std()\n",
    "    )\n",
    "\n",
    "    #market 5d percentage return\n",
    "    df_copy[\"sp500_return_5d\"]=(df_copy[\"sp500_Close\"].shift(1)/df_copy[\"sp500_Close\"].shift(6)-1)\n",
    "\n",
    "    #relative strength\n",
    "    df_copy['relative_strength_5d']=df_copy['return_5d']-df_copy['sp500_return_5d']\n",
    "\n",
    "\n",
    "    #target\n",
    "    df_copy[\"target_5d\"]=df_copy.groupby(\"Ticker\")[\"Close\"].transform(\n",
    "        lambda x:(x.shift(-5)/x-1)\n",
    "    )\n",
    "    return df_copy\n",
    "\n",
    "\n"
   ]
  },
  {
   "cell_type": "code",
   "execution_count": 25,
   "id": "143720f9",
   "metadata": {},
   "outputs": [],
   "source": [
    "df_with_features=feature_engineer(df)"
   ]
  },
  {
   "cell_type": "code",
   "execution_count": 26,
   "id": "6c3d03c8",
   "metadata": {},
   "outputs": [
    {
     "name": "stdout",
     "output_type": "stream",
     "text": [
      "Printing DF details \n",
      "\n",
      "Shape (1316543, 20)\n",
      "Missing Date                        0\n",
      "Ticker                      0\n",
      "Open                        0\n",
      "High                        0\n",
      "Low                         0\n",
      "Close                       0\n",
      "Volume                      0\n",
      "sp500_Open                  0\n",
      "sp500_High                  0\n",
      "sp500_Low                   0\n",
      "sp500_Close                 0\n",
      "sp500_Volume                0\n",
      "return_5d                3018\n",
      "rsi_14d                  7350\n",
      "daily_return              504\n",
      "volatility_10d           5533\n",
      "volatility_20d          10563\n",
      "sp500_return_5d             6\n",
      "relative_strength_5d     3018\n",
      "target_5d                2515\n",
      "dtype: int64\n",
      "Columns Index(['Date', 'Ticker', 'Open', 'High', 'Low', 'Close', 'Volume',\n",
      "       'sp500_Open', 'sp500_High', 'sp500_Low', 'sp500_Close', 'sp500_Volume',\n",
      "       'return_5d', 'rsi_14d', 'daily_return', 'volatility_10d',\n",
      "       'volatility_20d', 'sp500_return_5d', 'relative_strength_5d',\n",
      "       'target_5d'],\n",
      "      dtype='object')\n",
      "Duplicated 0\n"
     ]
    }
   ],
   "source": [
    "get_df_details(df_with_features)"
   ]
  },
  {
   "cell_type": "code",
   "execution_count": 27,
   "id": "64018ed5",
   "metadata": {},
   "outputs": [
    {
     "name": "stdout",
     "output_type": "stream",
     "text": [
      "Original: 1,316,543 rows\n",
      "Clean: 1,303,157 rows\n",
      "Removed: 13,386 rows (1.0%)\n"
     ]
    }
   ],
   "source": [
    "# List your feature columns\n",
    "feature_columns = ['return_5d', 'rsi_14d', 'volatility_10d', 'volatility_20d', \n",
    "                   'sp500_return_5d', 'relative_strength_5d',\"target_5d\"]\n",
    "\n",
    "# Drop rows missing any of these features\n",
    "df_clean = df_with_features.dropna(subset=feature_columns)\n",
    "\n",
    "print(f\"Original: {len(df):,} rows\")\n",
    "print(f\"Clean: {len(df_clean):,} rows\") \n",
    "print(f\"Removed: {len(df) - len(df_clean):,} rows ({(len(df) - len(df_clean))/len(df):.1%})\")"
   ]
  },
  {
   "cell_type": "code",
   "execution_count": 30,
   "id": "28857ea1",
   "metadata": {},
   "outputs": [],
   "source": [
    "df_clean.to_parquet(f\"{PROCESSED_DATA_OUTPUT_DIR}/swing_trading_model_data.parquet\", index=False)"
   ]
  }
 ],
 "metadata": {
  "kernelspec": {
   "display_name": "venv",
   "language": "python",
   "name": "python3"
  },
  "language_info": {
   "codemirror_mode": {
    "name": "ipython",
    "version": 3
   },
   "file_extension": ".py",
   "mimetype": "text/x-python",
   "name": "python",
   "nbconvert_exporter": "python",
   "pygments_lexer": "ipython3",
   "version": "3.13.5"
  }
 },
 "nbformat": 4,
 "nbformat_minor": 5
}
