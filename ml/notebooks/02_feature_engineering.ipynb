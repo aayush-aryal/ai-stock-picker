{
 "cells": [
  {
   "cell_type": "code",
   "execution_count": 2,
   "id": "0e4f21a1",
   "metadata": {},
   "outputs": [],
   "source": [
    "import pandas as pd\n",
    "import numpy as np\n",
    "from datetime import datetime"
   ]
  },
  {
   "cell_type": "code",
   "execution_count": 3,
   "id": "3f98bbaf",
   "metadata": {},
   "outputs": [],
   "source": [
    "RAW_DATA_OUTPUT_DIR=\"../data/raw\"\n",
    "PROCESSED_DATA_OUTPUT_DIR=\"../data/processed\""
   ]
  },
  {
   "cell_type": "code",
   "execution_count": 4,
   "id": "a51487aa",
   "metadata": {},
   "outputs": [],
   "source": [
    "df=pd.read_parquet(f\"{RAW_DATA_OUTPUT_DIR}/stock_and_market_data_2015_2025.parquet\"\n",
    "                   )"
   ]
  },
  {
   "cell_type": "code",
   "execution_count": 5,
   "id": "894e261e",
   "metadata": {},
   "outputs": [],
   "source": [
    "def get_df_details(df):\n",
    "    print(\"Printing DF details \\n\")\n",
    "    print(f\"Shape {df.shape}\")\n",
    "    print(f\"Missing {df.isna().sum()}\")\n",
    "    print(f\"Columns {df.columns}\")\n",
    "    print(f\"Duplicated {df.duplicated().sum()}\")\n"
   ]
  },
  {
   "cell_type": "code",
   "execution_count": 6,
   "id": "463c563a",
   "metadata": {},
   "outputs": [
    {
     "name": "stdout",
     "output_type": "stream",
     "text": [
      "Printing DF details \n",
      "\n",
      "Shape (1316543, 12)\n",
      "Missing Date            0\n",
      "Ticker          0\n",
      "Open            0\n",
      "High            0\n",
      "Low             0\n",
      "Close           0\n",
      "Volume          0\n",
      "sp500_Open      0\n",
      "sp500_High      0\n",
      "sp500_Low       0\n",
      "sp500_Close     0\n",
      "sp500_Volume    0\n",
      "dtype: int64\n",
      "Columns Index(['Date', 'Ticker', 'Open', 'High', 'Low', 'Close', 'Volume',\n",
      "       'sp500_Open', 'sp500_High', 'sp500_Low', 'sp500_Close', 'sp500_Volume'],\n",
      "      dtype='object')\n",
      "Duplicated 0\n"
     ]
    }
   ],
   "source": [
    "get_df_details(df)"
   ]
  },
  {
   "cell_type": "code",
   "execution_count": null,
   "id": "d2816695",
   "metadata": {},
   "outputs": [],
   "source": [
    "def calculate_rsi(prices,window=14):\n",
    "    \"\"\"Calculate RSI - momentum oscillator measuring speed of price movements\"\"\"\n",
    "    delta=prices.diff()\n",
    "    gain=(delta.where(delta>0,0)).rolling(window=window).mean()\n",
    "    loss=(-delta.where(delta<0,0)).rolling(window=window).mean()\n",
    "\n",
    "    rs=gain/loss\n",
    "    rsi=100-(100/(1+rs))\n",
    "    return rsi \n",
    "\n",
    "\n",
    "\n",
    "   \n",
    "\n",
    "def feature_engineer(df):\n",
    "    df_copy=df.copy()\n",
    "    df_copy=df_copy.sort_values(by=[\"Ticker\",\"Date\"])\n",
    "    #return for 5d would be \n",
    "    df_copy['return_5d'] = df_copy.groupby(\"Ticker\")[\"Close\"].transform(\n",
    "        lambda x: (x.shift(1)/x.shift(6)-1)\n",
    "    )\n",
    "    #rsi \n",
    "    df_copy['rsi_14d']=df_copy.groupby(\"Ticker\")[\"Close\"].transform(\n",
    "        lambda x:calculate_rsi(x).shift(1)\n",
    "    )\n",
    "    \n",
    "\n",
    "    #volatility \n",
    "    #how much a stock goes up or down per time or its movement? check daily return see how it much it has fluctuated\n",
    "    df_copy['daily_return'] = df_copy.groupby('Ticker')['Close'].pct_change().shift(1)\n",
    "    df_copy[\"volatility_10d\"]=df_copy.groupby(\"Ticker\")[\"daily_return\"].transform(\n",
    "        lambda x:x.rolling(window=10).std()\n",
    "    )\n",
    "    df_copy[\"volatility_20d\"]=df_copy.groupby(\"Ticker\")[\"daily_return\"].transform(\n",
    "        lambda x:x.rolling(window=20).std()\n",
    "    )\n",
    "\n",
    "    #market 5d percentage return\n",
    "    df_copy[\"sp500_return_5d\"]=(df_copy[\"sp500_Close\"].shift(1)/df_copy[\"sp500_Close\"].shift(6)-1)\n",
    "\n",
    "    #relative strength\n",
    "    df_copy['relative_strength_5d']=df_copy['return_5d']-df_copy['sp500_return_5d']\n",
    "\n",
    "    #more trend based signals \n",
    "    ema_12 = df_copy.groupby('Ticker')['Close'].transform(lambda x: x.ewm(span=12).mean())\n",
    "    ema_26 = df_copy.groupby('Ticker')['Close'].transform(lambda x: x.ewm(span=26).mean())\n",
    "    macd = ema_12 - ema_26\n",
    "    df_copy['macd']=macd\n",
    "    macd_signal = df_copy.groupby('Ticker')['macd'].transform(lambda x: x.ewm(span=9).mean())\n",
    "    macd_histogram = macd - macd_signal\n",
    "    df_copy['macd_histogram'] = macd_histogram.shift(1)\n",
    "\n",
    "    # Shift all final feature avoid collinearity\n",
    "    df_copy=df_copy.drop(columns=['macd'])\n",
    "\n",
    "    df_copy['ema_8d']=df_copy.groupby(\"Ticker\")[\"Close\"].transform(lambda x: x.ewm(span=8).mean()).shift(1)\n",
    "\n",
    "    df_copy['ema_21d']=df_copy.groupby(\"Ticker\")[\"Close\"].transform(lambda x: x.ewm(span=21).mean()).shift(1)\n",
    "\n",
    "    df_copy['ema_8_21_cross'] = (df_copy['ema_8d'] > df_copy['ema_21d']).astype(int)\n",
    "\n",
    "    #stochastic oscillator\n",
    "    low_14 = df_copy.groupby('Ticker')['Low'].transform(lambda x: x.rolling(14, min_periods=14).min())\n",
    "    high_14 = df_copy.groupby('Ticker')['High'].transform(lambda x: x.rolling(14, min_periods=14).max())\n",
    "    df_copy['stochastic_k']=100*((df_copy[\"Close\"]-low_14)/(high_14-low_14)).shift(1)\n",
    "    df_copy['stochastic_d'] = df_copy.groupby('Ticker')['stochastic_k'].transform(lambda x: x.rolling(3).mean()).shift(1)\n",
    "\n",
    "    #bollinger band\n",
    "    sma_20 = df_copy.groupby('Ticker')['Close'].transform(lambda x: x.rolling(window=20).mean())\n",
    "    std_20 = df_copy.groupby('Ticker')['Close'].transform(lambda x: x.rolling(window=20).std())\n",
    "    upper_band = sma_20 + (2 * std_20)\n",
    "    lower_band = sma_20 - (2 * std_20)\n",
    "    df_copy['bollinger_percent_b'] = ((df_copy['Close'] - lower_band) / (upper_band - lower_band)).shift(1)\n",
    "\n",
    "    #roc\n",
    "    #the percentage change in price between the current price and the price n periods ago. It's a pure momentum oscillator.\n",
    "    df_copy['roc_21d'] = df_copy.groupby(\"Ticker\")[\"Close\"].transform(\n",
    "    lambda x: (x / x.shift(21) - 1)\n",
    "    ).shift(1)\n",
    "\n",
    "    #obv \n",
    "    direction = df_copy.groupby('Ticker')['Close'].transform(lambda x: x.diff()).fillna(0).apply(np.sign)\n",
    "    obv = (df_copy['Volume'] * direction).groupby(df_copy['Ticker']).cumsum()\n",
    "    df_copy['obv_scaled'] = obv.groupby(df_copy['Ticker']).transform(\n",
    "        lambda x: (x - x.rolling(window=21).mean()) / x.rolling(window=21).std()\n",
    "    ).shift(1)\n",
    "\n",
    "\n",
    "    #atr \n",
    "    high_low=df_copy['High']- df_copy['Low']\n",
    "    high_close=np.abs(df_copy['High']-df_copy.groupby(\"Ticker\")['Close'].shift(1))\n",
    "    low_close=np.abs(df_copy['Low']-df_copy.groupby(\"Ticker\")[\"Close\"].shift(1))\n",
    "    tr=pd.concat([high_low,high_close,low_close], axis=1).max(axis=1)\n",
    "    df_copy['atr_14d']=tr.groupby(df_copy['Ticker']).transform(\n",
    "        lambda x:x.ewm(span=14, adjust=False).mean()\n",
    "    ).shift(1)\n",
    "\n",
    "\n",
    "\n",
    "    #target\n",
    "    df_copy[\"target_5d\"]=df_copy.groupby(\"Ticker\")[\"Close\"].transform(\n",
    "        lambda x:(x.shift(-5)/x-1)\n",
    "    )\n",
    "\n",
    "    df_copy[\"target_regression\"]=(df_copy[\"target_5d\"].clip(\n",
    "        df_copy[\"target_5d\"].quantile(0.01),\n",
    "        df_copy[\"target_5d\"].quantile(0.99)\n",
    "    ))\n",
    "\n",
    "    #need stock that out performs the market\n",
    "    df_copy['target_binary']=(df_copy['target_5d']>\n",
    "                              df_copy.groupby(\"Date\")['target_5d'].transform('median'))\n",
    "    \n",
    "    df_copy = df_copy.replace([np.inf, -np.inf], np.nan)\n",
    "\n",
    "    return df_copy\n",
    "\n",
    "\n"
   ]
  },
  {
   "cell_type": "code",
   "execution_count": 9,
   "id": "143720f9",
   "metadata": {},
   "outputs": [],
   "source": [
    "df_with_features=feature_engineer(df)"
   ]
  },
  {
   "cell_type": "code",
   "execution_count": 10,
   "id": "6c3d03c8",
   "metadata": {},
   "outputs": [
    {
     "name": "stdout",
     "output_type": "stream",
     "text": [
      "Printing DF details \n",
      "\n",
      "Shape (1316543, 28)\n",
      "Missing Date                        0\n",
      "Ticker                      0\n",
      "Open                        0\n",
      "High                        0\n",
      "Low                         0\n",
      "Close                       0\n",
      "Volume                      0\n",
      "sp500_Open                  0\n",
      "sp500_High                  0\n",
      "sp500_Low                   0\n",
      "sp500_Close                 0\n",
      "sp500_Volume                0\n",
      "return_5d                3018\n",
      "rsi_14d                  7350\n",
      "daily_return              504\n",
      "volatility_10d           5533\n",
      "volatility_20d          10563\n",
      "sp500_return_5d             6\n",
      "relative_strength_5d     3018\n",
      "macd_histogram              1\n",
      "ema_8d                      1\n",
      "ema_21d                     1\n",
      "ema_8_21_cross              0\n",
      "stochastic_k             6881\n",
      "stochastic_d             8466\n",
      "target_5d                2515\n",
      "target_regression        2515\n",
      "target_binary               0\n",
      "dtype: int64\n",
      "Columns Index(['Date', 'Ticker', 'Open', 'High', 'Low', 'Close', 'Volume',\n",
      "       'sp500_Open', 'sp500_High', 'sp500_Low', 'sp500_Close', 'sp500_Volume',\n",
      "       'return_5d', 'rsi_14d', 'daily_return', 'volatility_10d',\n",
      "       'volatility_20d', 'sp500_return_5d', 'relative_strength_5d',\n",
      "       'macd_histogram', 'ema_8d', 'ema_21d', 'ema_8_21_cross', 'stochastic_k',\n",
      "       'stochastic_d', 'target_5d', 'target_regression', 'target_binary'],\n",
      "      dtype='object')\n",
      "Duplicated 0\n"
     ]
    }
   ],
   "source": [
    "get_df_details(df_with_features)"
   ]
  },
  {
   "cell_type": "code",
   "execution_count": 11,
   "id": "64018ed5",
   "metadata": {},
   "outputs": [
    {
     "name": "stdout",
     "output_type": "stream",
     "text": [
      "Original: 1,316,543 rows\n",
      "Clean: 1,303,018 rows\n",
      "Removed: 13,525 rows (1.0%)\n"
     ]
    }
   ],
   "source": [
    "# List your feature columns\n",
    "feature_columns = ['return_5d', 'rsi_14d', 'volatility_10d', 'volatility_20d', \n",
    "                   'sp500_return_5d', 'relative_strength_5d',\"target_5d\",\n",
    "                   \"stochastic_k\",\"stochastic_d\",'ema_8_21_cross','ema_21d',\n",
    "                   'ema_8d','macd_histogram',\n",
    "                   \"target_binary\",\"target_regression\"]\n",
    "\n",
    "# Drop rows missing any of these features\n",
    "df_clean = df_with_features.dropna(subset=feature_columns)\n",
    "\n",
    "print(f\"Original: {len(df):,} rows\")\n",
    "print(f\"Clean: {len(df_clean):,} rows\") \n",
    "print(f\"Removed: {len(df) - len(df_clean):,} rows ({(len(df) - len(df_clean))/len(df):.1%})\")"
   ]
  },
  {
   "cell_type": "code",
   "execution_count": 12,
   "id": "9bb04a9c",
   "metadata": {},
   "outputs": [
    {
     "data": {
      "text/plain": [
       "Index(['Date', 'Ticker', 'Open', 'High', 'Low', 'Close', 'Volume',\n",
       "       'sp500_Open', 'sp500_High', 'sp500_Low', 'sp500_Close', 'sp500_Volume',\n",
       "       'return_5d', 'rsi_14d', 'daily_return', 'volatility_10d',\n",
       "       'volatility_20d', 'sp500_return_5d', 'relative_strength_5d',\n",
       "       'macd_histogram', 'ema_8d', 'ema_21d', 'ema_8_21_cross', 'stochastic_k',\n",
       "       'stochastic_d', 'target_5d', 'target_regression', 'target_binary'],\n",
       "      dtype='object')"
      ]
     },
     "execution_count": 12,
     "metadata": {},
     "output_type": "execute_result"
    }
   ],
   "source": [
    "df_clean.columns"
   ]
  },
  {
   "cell_type": "code",
   "execution_count": 13,
   "id": "28857ea1",
   "metadata": {},
   "outputs": [],
   "source": [
    "df_clean.to_parquet(f\"{PROCESSED_DATA_OUTPUT_DIR}/swing_trading_model_data.parquet\", index=False)"
   ]
  },
  {
   "cell_type": "code",
   "execution_count": 14,
   "id": "941324b0",
   "metadata": {},
   "outputs": [
    {
     "data": {
      "text/plain": [
       "503"
      ]
     },
     "execution_count": 14,
     "metadata": {},
     "output_type": "execute_result"
    }
   ],
   "source": [
    "df_clean[\"Ticker\"].nunique()"
   ]
  },
  {
   "cell_type": "code",
   "execution_count": null,
   "id": "2c2d809f",
   "metadata": {},
   "outputs": [],
   "source": []
  }
 ],
 "metadata": {
  "kernelspec": {
   "display_name": "venv",
   "language": "python",
   "name": "python3"
  },
  "language_info": {
   "codemirror_mode": {
    "name": "ipython",
    "version": 3
   },
   "file_extension": ".py",
   "mimetype": "text/x-python",
   "name": "python",
   "nbconvert_exporter": "python",
   "pygments_lexer": "ipython3",
   "version": "3.13.5"
  }
 },
 "nbformat": 4,
 "nbformat_minor": 5
}
